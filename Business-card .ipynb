{
 "cells": [
  {
   "cell_type": "code",
   "execution_count": 16,
   "metadata": {
    "execution": {
     "iopub.execute_input": "2023-04-03T14:46:31.475331Z",
     "iopub.status.busy": "2023-04-03T14:46:31.474829Z",
     "iopub.status.idle": "2023-04-03T14:46:31.621419Z",
     "shell.execute_reply": "2023-04-03T14:46:31.619325Z",
     "shell.execute_reply.started": "2023-04-03T14:46:31.475293Z"
    },
    "tags": []
   },
   "outputs": [
    {
     "data": {
      "image/png": "[encoded data removed]",
      "text/plain": [
       "<Figure size 385x220 with 1 Axes>"
      ]
     },
     "metadata": {},
     "output_type": "display_data"
    }
   ],
   "source": [
    "# Import neccesary libraries\n",
    "import matplotlib.pyplot as plt\n",
    "from matplotlib.lines import Line2D\n",
    "\n",
    "# Data\n",
    "name = \"Mario Escobar\"\n",
    "email = \"Tulmario@outlook.com\"\n",
    "phone = \"(559)387-0786\"\n",
    "data = [phone, email, name]\n",
    "labels = ['Phone', 'Email', 'Name']\n",
    "\n",
    "# Plotting bar graph\n",
    "fig, ax = plt.subplots(figsize=(3.85,2.2))  # Business card size: 3.5 x 2 inches\n",
    "colors = ['#34495e', '#3498db', '#95a5a6']  # Deep blue, clear blue & gray\n",
    "bars = ax.barh([2.5, 1.5, 0.5], [len(phone) + 2, len(email) + 2, len(name) + 2], color=colors, edgecolor='none', height=0.4)\n",
    "\n",
    "# Fix the plot\n",
    "ax.set_xlim(0, max(len(phone) + 2, len(email) + 2, len(name) + 2))  # Adjust x-axis limits\n",
    "ax.set_ylim(-0.5, 3)  # Adjust y-axis limits\n",
    "ax.set_yticks([])  # Remove y tick labels\n",
    "ax.set_xticks([])\n",
    "ax.spines['top'].set_visible(False)\n",
    "ax.spines['right'].set_visible(False)\n",
    "ax.spines['bottom'].set_visible(False)\n",
    "ax.spines['left'].set_visible(False)\n",
    "\n",
    "# Add the text inside the bars\n",
    "for i, bar in enumerate(bars):\n",
    "    ax.text(0.1, bar.get_y() + bar.get_height() / 2, data[2 - i], ha='left', va='center', color='white', fontweight='bold')\n",
    "\n",
    "# Add 'Data made simple' text\n",
    "ax.text(35, 0.1, 'Data made simple', ha='right', va='bottom', fontsize=8, fontweight='bold')\n",
    "\n",
    "# Add a legend\n",
    "legend_elements = [Line2D([0], [0], color=colors[i], lw=4, label=labels[2 -i]) for i in range(3)] #Reversing the order of the labels\n",
    "ax.legend(handles=legend_elements, loc='upper left', bbox_to_anchor=(1.05, 1), borderaxespad=0., fontsize=8)\n",
    "\n",
    "# Show the plot\n",
    "plt.tight_layout()\n",
    "plt.show()\n"
   ]
  },
  {
   "cell_type": "code",
   "execution_count": null,
   "metadata": {},
   "outputs": [],
   "source": []
  }
 ],
 "metadata": {
  "kernelspec": {
   "display_name": "Python 3 (ipykernel)",
   "language": "python",
   "name": "python3"
  },
  "language_info": {
   "codemirror_mode": {
    "name": "ipython",
    "version": 3
   },
   "file_extension": ".py",
   "mimetype": "text/x-python",
   "name": "python",
   "nbconvert_exporter": "python",
   "pygments_lexer": "ipython3",
   "version": "3.10.9"
  }
 },
 "nbformat": 4,
 "nbformat_minor": 4
}
